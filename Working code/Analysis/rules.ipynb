{
 "cells": [
  {
   "cell_type": "code",
   "execution_count": 6,
   "id": "21789819",
   "metadata": {},
   "outputs": [],
   "source": [
    "import pandas as pd\n",
    "import matplotlib.pyplot as plt\n",
    "import seaborn as sns\n",
    "import numpy as np\n",
    "\n",
    "import os"
   ]
  },
  {
   "cell_type": "code",
   "execution_count": 17,
   "id": "c3bd640d",
   "metadata": {},
   "outputs": [
    {
     "name": "stdout",
     "output_type": "stream",
     "text": [
      "(768, 9)\n",
      "(1000, 9)\n",
      "(500, 9)\n",
      "(500, 9)\n",
      "(400, 8)\n",
      "(100, 8)\n",
      "(400, 8)\n",
      "(100, 8)\n"
     ]
    }
   ],
   "source": [
    "from imblearn.over_sampling import RandomOverSampler\n",
    "from imblearn.over_sampling import SMOTE\n",
    "from imblearn.over_sampling import ADASYN\n",
    "from sklearn.model_selection import train_test_split\n",
    "\n",
    "ratio = 0.2\n",
    "\n",
    "path = \"C:\\\\Users\\hp\\Desktop\\SM-RuleMiner\\Working code\\Data\\diabetes.csv\"\n",
    "whole_data = pd.read_csv(path)\n",
    "print(whole_data.shape)\n",
    "\n",
    "col = whole_data.columns.tolist()\n",
    "\n",
    "\n",
    "X = whole_data[col[:-1]]\n",
    "y = whole_data[\"Outcome\"]\n",
    "\n",
    "smote = SMOTE()\n",
    "X_resampled, y_resampled = smote.fit_resample(X, y)\n",
    "\n",
    "X_resampled_df = pd.DataFrame(X_resampled, columns=X.columns)\n",
    "y_resampled_df = pd.DataFrame(y_resampled, columns=['Outcome'])\n",
    "\n",
    "whole_data = pd.concat([X_resampled_df, y_resampled_df], axis=1)\n",
    "\n",
    "print(whole_data.shape)\n",
    "\n",
    "positive_data = whole_data[whole_data[\"Outcome\"] == 1]\n",
    "negative_data = whole_data[whole_data[\"Outcome\"] == 0]\n",
    "\n",
    "print(positive_data.shape)\n",
    "print(negative_data.shape)\n",
    "\n",
    "X_pos = positive_data[col[:len(col) - 1]]\n",
    "X_neg = negative_data[col[:len(col) - 1]] \n",
    "Y_pos = positive_data[col[-1]]\n",
    "Y_neg = negative_data[col[-1]]\n",
    "\n",
    "\n",
    "df_pos_train, df_pos_test, y_pos_train, y_pos_test = train_test_split(X_pos, Y_pos, test_size= ratio, random_state=0)\n",
    "df_neg_train, df_neg_test, y_neg_train, y_neg_test = train_test_split(X_neg, Y_neg, test_size= ratio, random_state=0)\n",
    "\n",
    "print(df_pos_train.shape)\n",
    "print(df_pos_test.shape)\n",
    "print(df_neg_train.shape)\n",
    "print(df_neg_test.shape)"
   ]
  },
  {
   "cell_type": "code",
   "execution_count": 3,
   "id": "a2007438",
   "metadata": {},
   "outputs": [],
   "source": [
    "path = \"C:\\\\Users\\hp\\Desktop\\SM-RuleMiner\\Working code\\Logs\\\\\"\n",
    "df_neg = pd.read_excel(path + \"neg_final.xlsx\")\n",
    "df_pos = pd.read_excel(path + \"pos_final.xlsx\")"
   ]
  },
  {
   "cell_type": "code",
   "execution_count": 5,
   "id": "2cc35cf8",
   "metadata": {},
   "outputs": [
    {
     "name": "stdout",
     "output_type": "stream",
     "text": [
      "0.8755555555555556\n",
      "0.5195689841888671\n",
      "0.6975622698722114\n"
     ]
    }
   ],
   "source": [
    "x_neg = df_neg[\"Accuracy\"].mean()\n",
    "x_pos = df_pos[\"Accuracy\"].mean()\n",
    "print(x_neg)\n",
    "print(x_pos)\n",
    "print((x_neg + x_pos)/2)"
   ]
  },
  {
   "cell_type": "code",
   "execution_count": 5,
   "id": "3e084d99",
   "metadata": {},
   "outputs": [
    {
     "name": "stdout",
     "output_type": "stream",
     "text": [
      "Pregnancies_flag => 6\n",
      "Glucose_flag => 27\n",
      "BP_flag => 5\n",
      "SkinThickness_flag => 13\n",
      "Insulin_flag => 0\n",
      "BMI_flag => 7\n",
      "DPF_flag => 2\n",
      "Age_flag => 3\n"
     ]
    }
   ],
   "source": [
    "# times every rule \n",
    "cols = df.columns.tolist()\n",
    "for i in range(1,len(cols) - 1,3):\n",
    "    print(f\"{cols[i]} => {df[cols[i]].sum()}\")"
   ]
  },
  {
   "cell_type": "code",
   "execution_count": 6,
   "id": "b20168bb",
   "metadata": {},
   "outputs": [
    {
     "name": "stdout",
     "output_type": "stream",
     "text": [
      "Ave accuracy : 94.67999999999999\n"
     ]
    }
   ],
   "source": [
    "print(f\"Ave accuracy : {df['Accuracy'].mean() * 100}\")"
   ]
  }
 ],
 "metadata": {
  "kernelspec": {
   "display_name": "Python 3 (ipykernel)",
   "language": "python",
   "name": "python3"
  },
  "language_info": {
   "codemirror_mode": {
    "name": "ipython",
    "version": 3
   },
   "file_extension": ".py",
   "mimetype": "text/x-python",
   "name": "python",
   "nbconvert_exporter": "python",
   "pygments_lexer": "ipython3",
   "version": "3.9.7"
  }
 },
 "nbformat": 4,
 "nbformat_minor": 5
}
