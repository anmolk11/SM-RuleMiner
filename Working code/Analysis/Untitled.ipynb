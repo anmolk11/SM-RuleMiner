{
 "cells": [
  {
   "cell_type": "code",
   "execution_count": 6,
   "id": "19e96131",
   "metadata": {},
   "outputs": [],
   "source": [
    "import pandas as pd\n",
    "path = \"C:\\\\Users\\hp\\Desktop\\X\\SM-RuleMiner\\Working code\\Data\\\\\"\n",
    "df = pd.read_csv(path + \"diabetes.csv\")\n",
    "cols = df.columnsumns"
   ]
  },
  {
   "cell_type": "code",
   "execution_count": 8,
   "id": "143c44e8",
   "metadata": {},
   "outputs": [],
   "source": [
    "def makeMonkey(args):\n",
    "    monkey = {}\n",
    "    \n",
    "    i = 0\n",
    "    \n",
    "    for j in range(0,24,3):\n",
    "        monkey[i] = args[j:j+3]\n",
    "        i += 1\n",
    "    \n",
    "    return monkey\n",
    "\n",
    "def support(args,cls):\n",
    "    args = makeMonkey(args)\n",
    "    size = df.shape[0]\n",
    "    for i,r in df.iterrows():\n",
    "        for k,v in args.items():\n",
    "            if(v[0] >= 0.5):\n",
    "                mx = max(v[1],v[2])\n",
    "                mn = min(v[1],v[2])\n",
    "                if r[cols[k]] >= mn and r[cols[k]] <= mx and r[\"Outcome\"] == cls:\n",
    "                    count += 1\n",
    "    \n",
    "    return count/size"
   ]
  }
 ],
 "metadata": {
  "kernelspec": {
   "display_name": "Python 3 (ipykernel)",
   "language": "python",
   "name": "python3"
  },
  "language_info": {
   "codemirror_mode": {
    "name": "ipython",
    "version": 3
   },
   "file_extension": ".py",
   "mimetype": "text/x-python",
   "name": "python",
   "nbconvert_exporter": "python",
   "pygments_lexer": "ipython3",
   "version": "3.9.7"
  }
 },
 "nbformat": 4,
 "nbformat_minor": 5
}
