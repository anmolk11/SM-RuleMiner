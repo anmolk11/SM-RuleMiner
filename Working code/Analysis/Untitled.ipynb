{
 "cells": [
  {
   "cell_type": "code",
   "execution_count": 27,
   "id": "4d9408e4",
   "metadata": {},
   "outputs": [],
   "source": [
    "import pandas as pd\n",
    "import seaborn as sns\n",
    "import matplotlib.pyplot as plt\n",
    "import os\n",
    "\n",
    "sns.set_style(\"darkgrid\")\n",
    "\n",
    "path = \"C:\\\\Users\\hp\\Desktop\\X\\SM-RuleMiner\\Working code\\Logs\""
   ]
  },
  {
   "cell_type": "code",
   "execution_count": 42,
   "id": "678cd8fe",
   "metadata": {},
   "outputs": [
    {
     "name": "stdout",
     "output_type": "stream",
     "text": [
      "Positive rules : 32\n",
      "Negative rules : 81\n"
     ]
    }
   ],
   "source": [
    "df = pd.read_excel(path + \"\\orignal_fitness_rule_log.xlsx\")\n",
    "\n",
    "df_pos = df[df[\"Class\"] == 1]\n",
    "df_neg = df[df[\"Class\"] == 0]\n",
    "\n",
    "pos_rules = df_pos.shape[0]\n",
    "neg_rules = df_neg.shape[0]\n",
    "print(f\"Positive rules : {pos_rules}\")\n",
    "print(f\"Negative rules : {neg_rules}\")"
   ]
  },
  {
   "cell_type": "code",
   "execution_count": 44,
   "id": "d8acd278",
   "metadata": {},
   "outputs": [
    {
     "name": "stdout",
     "output_type": "stream",
     "text": [
      "Positive rules : \n",
      "\n",
      "Pregnancies_flag : 1\n",
      "Glucose_flag : 6\n",
      "BP_flag : 3\n",
      "SkinThickness_flag : 4\n",
      "Insulin_flag : 4\n",
      "BMI_flag : 7\n",
      "DPF_flag : 0\n",
      "Age_flag : 8\n",
      "\n",
      "\n",
      "Negative rules : \n",
      "\n",
      "Pregnancies_flag : 9\n",
      "Glucose_flag : 37\n",
      "BP_flag : 6\n",
      "SkinThickness_flag : 7\n",
      "Insulin_flag : 11\n",
      "BMI_flag : 17\n",
      "DPF_flag : 4\n",
      "Age_flag : 9\n"
     ]
    }
   ],
   "source": [
    "cols = df.columns[1:].tolist()\n",
    "flags = [cols[i] for i in range(len(cols)) if i % 3 == 0]\n",
    "flags.pop()\n",
    "\n",
    "print(\"Positive rules : \\n\")\n",
    "for f in flags:\n",
    "    print(f\"{f} : {df_pos[f].sum()}\")\n",
    "\n",
    "print(\"\\n\\nNegative rules : \\n\")\n",
    "for f in flags:\n",
    "    print(f\"{f} : {df_neg[f].sum()}\")"
   ]
  },
  {
   "cell_type": "code",
   "execution_count": 64,
   "id": "9b5b1811",
   "metadata": {},
   "outputs": [
    {
     "data": {
      "image/png": "[encoded data removed]",
      "text/plain": [
       "<Figure size 432x288 with 1 Axes>"
      ]
     },
     "metadata": {},
     "output_type": "display_data"
    }
   ],
   "source": [
    "import matplotlib.pyplot as plt\n",
    "\n",
    "intervals = [(0, 5), (2, 8), (6, 10)]\n",
    "\n",
    "fig, ax = plt.subplots()\n",
    "\n",
    "for interval in intervals:\n",
    "    ax.plot([interval[0], interval[1]], [0, 0], linewidth=5)\n",
    "\n",
    "ax.set_xlim(0, 10)\n",
    "ax.set_ylim(-1, 1)\n",
    "ax.set_xlabel('Number Line')\n",
    "ax.set_yticks([])\n",
    "\n",
    "plt.show()"
   ]
  },
  {
   "cell_type": "code",
   "execution_count": null,
   "id": "4722f2ca",
   "metadata": {},
   "outputs": [],
   "source": []
  }
 ],
 "metadata": {
  "kernelspec": {
   "display_name": "Python 3 (ipykernel)",
   "language": "python",
   "name": "python3"
  },
  "language_info": {
   "codemirror_mode": {
    "name": "ipython",
    "version": 3
   },
   "file_extension": ".py",
   "mimetype": "text/x-python",
   "name": "python",
   "nbconvert_exporter": "python",
   "pygments_lexer": "ipython3",
   "version": "3.9.7"
  }
 },
 "nbformat": 4,
 "nbformat_minor": 5
}
