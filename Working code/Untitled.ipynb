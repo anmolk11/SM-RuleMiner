{
 "cells": [
  {
   "cell_type": "code",
   "execution_count": 17,
   "id": "d67a9b7a",
   "metadata": {},
   "outputs": [
    {
     "name": "stdout",
     "output_type": "stream",
     "text": [
      "P : (81, 9)\n",
      "N : (150, 9)\n",
      "\n",
      "\n",
      "Pregnancies 0 17\n",
      "Glucose 0 199\n",
      "BloodPressure 0 122\n",
      "SkinThickness 0 99\n",
      "Insulin 0 846\n",
      "BMI 0.0 67.1\n",
      "DiabetesPedigreeFunction 0.078 2.42\n",
      "Age 21 81\n",
      "Outcome 0 1\n"
     ]
    }
   ],
   "source": [
    "import pandas as pd\n",
    "\n",
    "df = pd.read_csv(\"diabetes.csv\")\n",
    "df_pos_test = pd.read_csv(\"data/df_pos_test.csv\")\n",
    "df_neg_test = pd.read_csv(\"data/df_neg_test.csv\")\n",
    "df_pos_train = pd.read_csv(\"data/df_pos_train.csv\")\n",
    "df_neg_train = pd.read_csv(\"data/df_neg_train.csv\")\n",
    "\n",
    "\n",
    "print(f\"P : {df_pos.shape}\")\n",
    "print(f\"N : {df_neg.shape}\")\n",
    "print(\"\\n\")\n",
    "for x in df.columns:\n",
    "    print(x,df[x].min(),df[x].max())"
   ]
  },
  {
   "cell_type": "code",
   "execution_count": 16,
   "id": "a0b5872a",
   "metadata": {},
   "outputs": [],
   "source": [
    "def F(filt,df):\n",
    "    print(df[filt].shape[0])"
   ]
  },
  {
   "cell_type": "code",
   "execution_count": 19,
   "id": "b1614fc0",
   "metadata": {},
   "outputs": [
    {
     "name": "stdout",
     "output_type": "stream",
     "text": [
      "82\n"
     ]
    }
   ],
   "source": [
    "filt = (df_neg_test[\"Age\"] >= 21.0) & (df_neg_test[\"Age\"] <= 27.948083334409883)\n",
    "F(filt,df_neg_test)"
   ]
  },
  {
   "cell_type": "code",
   "execution_count": null,
   "id": "ebd37369",
   "metadata": {},
   "outputs": [],
   "source": [
    "filt = (df_neg_train[\"Glucose\"] >= 21.0) & (df_neg_train[\"Glucose\"] <= 27.948083334409883)\n",
    "F(filt,df_neg_train)"
   ]
  }
 ],
 "metadata": {
  "kernelspec": {
   "display_name": "Python 3 (ipykernel)",
   "language": "python",
   "name": "python3"
  },
  "language_info": {
   "codemirror_mode": {
    "name": "ipython",
    "version": 3
   },
   "file_extension": ".py",
   "mimetype": "text/x-python",
   "name": "python",
   "nbconvert_exporter": "python",
   "pygments_lexer": "ipython3",
   "version": "3.9.13"
  }
 },
 "nbformat": 4,
 "nbformat_minor": 5
}
